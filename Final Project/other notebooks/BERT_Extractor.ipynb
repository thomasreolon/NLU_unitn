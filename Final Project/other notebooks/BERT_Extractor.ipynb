{
  "nbformat": 4,
  "nbformat_minor": 0,
  "metadata": {
    "colab": {
      "name": "BERT Extractor.ipynb",
      "provenance": [],
      "collapsed_sections": []
    },
    "kernelspec": {
      "name": "python3",
      "display_name": "Python 3"
    },
    "language_info": {
      "name": "python"
    },
    "accelerator": "GPU",
    "widgets": {
      "application/vnd.jupyter.widget-state+json": {
        "12427c6aa3c040f983a9693f41ba2897": {
          "model_module": "@jupyter-widgets/controls",
          "model_name": "HBoxModel",
          "model_module_version": "1.5.0",
          "state": {
            "_view_name": "HBoxView",
            "_dom_classes": [],
            "_model_name": "HBoxModel",
            "_view_module": "@jupyter-widgets/controls",
            "_model_module_version": "1.5.0",
            "_view_count": null,
            "_view_module_version": "1.5.0",
            "box_style": "",
            "layout": "IPY_MODEL_d4b4178004c14db3924bed08d870d60a",
            "_model_module": "@jupyter-widgets/controls",
            "children": [
              "IPY_MODEL_9399c5bf716f4922a50f81a21c77ad81",
              "IPY_MODEL_37a690dee4ce488d89026202ac9db63a",
              "IPY_MODEL_3e98015016b945c0a3f071c462e2b660"
            ]
          }
        },
        "d4b4178004c14db3924bed08d870d60a": {
          "model_module": "@jupyter-widgets/base",
          "model_name": "LayoutModel",
          "model_module_version": "1.2.0",
          "state": {
            "_view_name": "LayoutView",
            "grid_template_rows": null,
            "right": null,
            "justify_content": null,
            "_view_module": "@jupyter-widgets/base",
            "overflow": null,
            "_model_module_version": "1.2.0",
            "_view_count": null,
            "flex_flow": null,
            "width": null,
            "min_width": null,
            "border": null,
            "align_items": null,
            "bottom": null,
            "_model_module": "@jupyter-widgets/base",
            "top": null,
            "grid_column": null,
            "overflow_y": null,
            "overflow_x": null,
            "grid_auto_flow": null,
            "grid_area": null,
            "grid_template_columns": null,
            "flex": null,
            "_model_name": "LayoutModel",
            "justify_items": null,
            "grid_row": null,
            "max_height": null,
            "align_content": null,
            "visibility": null,
            "align_self": null,
            "height": null,
            "min_height": null,
            "padding": null,
            "grid_auto_rows": null,
            "grid_gap": null,
            "max_width": null,
            "order": null,
            "_view_module_version": "1.2.0",
            "grid_template_areas": null,
            "object_position": null,
            "object_fit": null,
            "grid_auto_columns": null,
            "margin": null,
            "display": null,
            "left": null
          }
        },
        "9399c5bf716f4922a50f81a21c77ad81": {
          "model_module": "@jupyter-widgets/controls",
          "model_name": "HTMLModel",
          "model_module_version": "1.5.0",
          "state": {
            "_view_name": "HTMLView",
            "style": "IPY_MODEL_561862aab8ff4815ace6ce0d2f03f480",
            "_dom_classes": [],
            "description": "",
            "_model_name": "HTMLModel",
            "placeholder": "​",
            "_view_module": "@jupyter-widgets/controls",
            "_model_module_version": "1.5.0",
            "value": "Downloading: ",
            "_view_count": null,
            "_view_module_version": "1.5.0",
            "description_tooltip": null,
            "_model_module": "@jupyter-widgets/controls",
            "layout": "IPY_MODEL_be6654338d694a4c8481c509673166fe"
          }
        },
        "37a690dee4ce488d89026202ac9db63a": {
          "model_module": "@jupyter-widgets/controls",
          "model_name": "FloatProgressModel",
          "model_module_version": "1.5.0",
          "state": {
            "_view_name": "ProgressView",
            "style": "IPY_MODEL_ae0438a4e72c4209ac5072bc9685e4bf",
            "_dom_classes": [],
            "description": "",
            "_model_name": "FloatProgressModel",
            "bar_style": "success",
            "max": 2170,
            "_view_module": "@jupyter-widgets/controls",
            "_model_module_version": "1.5.0",
            "value": 2170,
            "_view_count": null,
            "_view_module_version": "1.5.0",
            "orientation": "horizontal",
            "min": 0,
            "description_tooltip": null,
            "_model_module": "@jupyter-widgets/controls",
            "layout": "IPY_MODEL_1f77e5ef81c54002a73dec9c0bcbb0b0"
          }
        },
        "3e98015016b945c0a3f071c462e2b660": {
          "model_module": "@jupyter-widgets/controls",
          "model_name": "HTMLModel",
          "model_module_version": "1.5.0",
          "state": {
            "_view_name": "HTMLView",
            "style": "IPY_MODEL_c5c2f680578343e6a3a001ebe8ad970b",
            "_dom_classes": [],
            "description": "",
            "_model_name": "HTMLModel",
            "placeholder": "​",
            "_view_module": "@jupyter-widgets/controls",
            "_model_module_version": "1.5.0",
            "value": " 5.61k/? [00:00&lt;00:00, 130kB/s]",
            "_view_count": null,
            "_view_module_version": "1.5.0",
            "description_tooltip": null,
            "_model_module": "@jupyter-widgets/controls",
            "layout": "IPY_MODEL_05666ddb8f9841d9a53d4471153096af"
          }
        },
        "561862aab8ff4815ace6ce0d2f03f480": {
          "model_module": "@jupyter-widgets/controls",
          "model_name": "DescriptionStyleModel",
          "model_module_version": "1.5.0",
          "state": {
            "_view_name": "StyleView",
            "_model_name": "DescriptionStyleModel",
            "description_width": "",
            "_view_module": "@jupyter-widgets/base",
            "_model_module_version": "1.5.0",
            "_view_count": null,
            "_view_module_version": "1.2.0",
            "_model_module": "@jupyter-widgets/controls"
          }
        },
        "be6654338d694a4c8481c509673166fe": {
          "model_module": "@jupyter-widgets/base",
          "model_name": "LayoutModel",
          "model_module_version": "1.2.0",
          "state": {
            "_view_name": "LayoutView",
            "grid_template_rows": null,
            "right": null,
            "justify_content": null,
            "_view_module": "@jupyter-widgets/base",
            "overflow": null,
            "_model_module_version": "1.2.0",
            "_view_count": null,
            "flex_flow": null,
            "width": null,
            "min_width": null,
            "border": null,
            "align_items": null,
            "bottom": null,
            "_model_module": "@jupyter-widgets/base",
            "top": null,
            "grid_column": null,
            "overflow_y": null,
            "overflow_x": null,
            "grid_auto_flow": null,
            "grid_area": null,
            "grid_template_columns": null,
            "flex": null,
            "_model_name": "LayoutModel",
            "justify_items": null,
            "grid_row": null,
            "max_height": null,
            "align_content": null,
            "visibility": null,
            "align_self": null,
            "height": null,
            "min_height": null,
            "padding": null,
            "grid_auto_rows": null,
            "grid_gap": null,
            "max_width": null,
            "order": null,
            "_view_module_version": "1.2.0",
            "grid_template_areas": null,
            "object_position": null,
            "object_fit": null,
            "grid_auto_columns": null,
            "margin": null,
            "display": null,
            "left": null
          }
        },
        "ae0438a4e72c4209ac5072bc9685e4bf": {
          "model_module": "@jupyter-widgets/controls",
          "model_name": "ProgressStyleModel",
          "model_module_version": "1.5.0",
          "state": {
            "_view_name": "StyleView",
            "_model_name": "ProgressStyleModel",
            "description_width": "",
            "_view_module": "@jupyter-widgets/base",
            "_model_module_version": "1.5.0",
            "_view_count": null,
            "_view_module_version": "1.2.0",
            "bar_color": null,
            "_model_module": "@jupyter-widgets/controls"
          }
        },
        "1f77e5ef81c54002a73dec9c0bcbb0b0": {
          "model_module": "@jupyter-widgets/base",
          "model_name": "LayoutModel",
          "model_module_version": "1.2.0",
          "state": {
            "_view_name": "LayoutView",
            "grid_template_rows": null,
            "right": null,
            "justify_content": null,
            "_view_module": "@jupyter-widgets/base",
            "overflow": null,
            "_model_module_version": "1.2.0",
            "_view_count": null,
            "flex_flow": null,
            "width": null,
            "min_width": null,
            "border": null,
            "align_items": null,
            "bottom": null,
            "_model_module": "@jupyter-widgets/base",
            "top": null,
            "grid_column": null,
            "overflow_y": null,
            "overflow_x": null,
            "grid_auto_flow": null,
            "grid_area": null,
            "grid_template_columns": null,
            "flex": null,
            "_model_name": "LayoutModel",
            "justify_items": null,
            "grid_row": null,
            "max_height": null,
            "align_content": null,
            "visibility": null,
            "align_self": null,
            "height": null,
            "min_height": null,
            "padding": null,
            "grid_auto_rows": null,
            "grid_gap": null,
            "max_width": null,
            "order": null,
            "_view_module_version": "1.2.0",
            "grid_template_areas": null,
            "object_position": null,
            "object_fit": null,
            "grid_auto_columns": null,
            "margin": null,
            "display": null,
            "left": null
          }
        },
        "c5c2f680578343e6a3a001ebe8ad970b": {
          "model_module": "@jupyter-widgets/controls",
          "model_name": "DescriptionStyleModel",
          "model_module_version": "1.5.0",
          "state": {
            "_view_name": "StyleView",
            "_model_name": "DescriptionStyleModel",
            "description_width": "",
            "_view_module": "@jupyter-widgets/base",
            "_model_module_version": "1.5.0",
            "_view_count": null,
            "_view_module_version": "1.2.0",
            "_model_module": "@jupyter-widgets/controls"
          }
        },
        "05666ddb8f9841d9a53d4471153096af": {
          "model_module": "@jupyter-widgets/base",
          "model_name": "LayoutModel",
          "model_module_version": "1.2.0",
          "state": {
            "_view_name": "LayoutView",
            "grid_template_rows": null,
            "right": null,
            "justify_content": null,
            "_view_module": "@jupyter-widgets/base",
            "overflow": null,
            "_model_module_version": "1.2.0",
            "_view_count": null,
            "flex_flow": null,
            "width": null,
            "min_width": null,
            "border": null,
            "align_items": null,
            "bottom": null,
            "_model_module": "@jupyter-widgets/base",
            "top": null,
            "grid_column": null,
            "overflow_y": null,
            "overflow_x": null,
            "grid_auto_flow": null,
            "grid_area": null,
            "grid_template_columns": null,
            "flex": null,
            "_model_name": "LayoutModel",
            "justify_items": null,
            "grid_row": null,
            "max_height": null,
            "align_content": null,
            "visibility": null,
            "align_self": null,
            "height": null,
            "min_height": null,
            "padding": null,
            "grid_auto_rows": null,
            "grid_gap": null,
            "max_width": null,
            "order": null,
            "_view_module_version": "1.2.0",
            "grid_template_areas": null,
            "object_position": null,
            "object_fit": null,
            "grid_auto_columns": null,
            "margin": null,
            "display": null,
            "left": null
          }
        }
      }
    }
  },
  "cells": [
    {
      "cell_type": "markdown",
      "metadata": {
        "id": "VJA-Vx7MJGsx"
      },
      "source": [
        "## BERT Summary Extractor\n",
        "\n",
        "in this notebook we load a pretrained BERT model, then use its encodings to evaluate wether a sentence is important or not.\n",
        "\n",
        "The usual GOTO would be to append a classifier layer at the end of BERT to get our score, but nothing prevents us from computing the loss directly on the embedding (faster experiments)"
      ]
    },
    {
      "cell_type": "code",
      "metadata": {
        "id": "WZEN69tFt2IK"
      },
      "source": [
        "%%capture\n",
        "!pip install transformers\n",
        "!pip install datasets\n",
        "!pip install rouge_score"
      ],
      "execution_count": null,
      "outputs": []
    },
    {
      "cell_type": "code",
      "metadata": {
        "id": "Fw1ooRPRtztA"
      },
      "source": [
        "from tqdm import tqdm\n",
        "import gc, re\n",
        "\n",
        "import torch, torch.nn as nn\n",
        "from torch.utils.data import Dataset\n",
        "from torch.utils.data import DataLoader\n",
        "\n",
        "from datasets import load_dataset, load_metric\n",
        "from transformers import BertModel, BertTokenizer\n",
        "from transformers.optimization import AdamW"
      ],
      "execution_count": null,
      "outputs": []
    },
    {
      "cell_type": "code",
      "metadata": {
        "id": "MWKC1A9HvMT0"
      },
      "source": [
        "encoder_max_length = 400\n",
        "decoder_max_length = 75\n",
        "batch_size         = 4\n",
        "model_name         = 'bert-base-uncased'"
      ],
      "execution_count": null,
      "outputs": []
    },
    {
      "cell_type": "code",
      "metadata": {
        "id": "T12Q31H6JaX9",
        "colab": {
          "base_uri": "https://localhost:8080/"
        },
        "outputId": "41898b19-1592-45a1-ca0c-4cbc6ac2cdc4"
      },
      "source": [
        "%%capture\n",
        "\n",
        "# just to download stuff at the beginning, hiding the logs after\n",
        "BertModel.from_pretrained(model_name)\n",
        "load_dataset(\"cnn_dailymail\", \"3.0.0\")\n",
        "BertTokenizer.from_pretrained(model_name)"
      ],
      "execution_count": null,
      "outputs": [
        {
          "output_type": "stream",
          "text": [
            "Some weights of the model checkpoint at bert-base-uncased were not used when initializing BertModel: ['cls.predictions.decoder.weight', 'cls.seq_relationship.weight', 'cls.seq_relationship.bias', 'cls.predictions.transform.LayerNorm.weight', 'cls.predictions.transform.dense.bias', 'cls.predictions.transform.dense.weight', 'cls.predictions.bias', 'cls.predictions.transform.LayerNorm.bias']\n",
            "- This IS expected if you are initializing BertModel from the checkpoint of a model trained on another task or with another architecture (e.g. initializing a BertForSequenceClassification model from a BertForPreTraining model).\n",
            "- This IS NOT expected if you are initializing BertModel from the checkpoint of a model that you expect to be exactly identical (initializing a BertForSequenceClassification model from a BertForSequenceClassification model).\n"
          ],
          "name": "stderr"
        }
      ]
    },
    {
      "cell_type": "code",
      "metadata": {
        "id": "igbNiVv3v2aN"
      },
      "source": [
        "\"\"\"\n",
        "Uses https://huggingface.co/datasets/viewer/?dataset=cnn_dailymail and a tokenizer\n",
        "to create the hot-encodings to feed to the NN\n",
        "\"\"\"\n",
        "\n",
        "class CNNDataset(Dataset):\n",
        "  def __init__(self, mode='train', n_articles=10000):\n",
        "    super().__init__()\n",
        "    raw_data  = load_dataset(\"cnn_dailymail\", \"3.0.0\", split=f\"{mode}[:{n_articles}]\")  # download dataset from huggingface\n",
        "    self.tokenizer = BertTokenizer.from_pretrained(model_name)    # load tokenizer to hot-encode articles\n",
        "    self.data = self.preprocess_data(raw_data)                                          # preprocess data (hot-encode article/highlights)\n",
        "\n",
        "  def preprocess_data(self, raw_data):\n",
        "    data = []\n",
        "    punctuations = set(self.tokenizer(\". , ; : ? !\"))\n",
        "    for i in range(len(raw_data)):\n",
        "\n",
        "      # hot encode article\n",
        "      hot_article = self.tokenizer(raw_data[i]['article'], padding=\"max_length\", truncation=True, max_length=encoder_max_length, return_tensors=\"pt\").input_ids[0]\n",
        "      hot_high  = self.tokenizer(raw_data[i]['highlights'], padding=\"max_length\", truncation=True, max_length=decoder_max_length, return_tensors=\"pt\").input_ids[0]\n",
        "\n",
        "      # n-grams of highlights\n",
        "      high_2grams, words = set(), set()\n",
        "      prec = hot_high[0].item()\n",
        "      for tok in hot_high[1:]:\n",
        "        tok = tok.item()\n",
        "        high_2grams.add((prec, tok))\n",
        "        words.add(tok)\n",
        "        prec = tok\n",
        "\n",
        "      # n-grams of article (find best sentences)\n",
        "      labels = torch.zeros_like(hot_article).float()\n",
        "      for i, tok in enumerate(hot_article[1:]):\n",
        "        tok = tok.item()\n",
        "        if (prec, tok) in high_2grams:\n",
        "          labels[i+1] = 1.\n",
        "        prec = tok\n",
        "\n",
        "      # important sentences\n",
        "      labels2 = torch.zeros_like(hot_article).float()\n",
        "      sum, prev = 0, 0\n",
        "      for i, tok in enumerate(hot_article):\n",
        "        tok = tok.item()\n",
        "        sum += (tok in words and not tok in punctuations)*0.4 + labels[i]\n",
        "        if tok in punctuations:\n",
        "          labels[prev:i+1] = sum / (i+1-prev)\n",
        "          sum, prev = 0, i+1\n",
        "\n",
        "\n",
        "      data.append( {\n",
        "          'input_ids':hot_article,       # article\n",
        "          'decoder_input_ids':hot_high,  # summary\n",
        "          'labels':labels,                            # summary (excluding <pad> from loss)\n",
        "          'labels2':labels2,                            # summary (excluding <pad> from loss)\n",
        "          'attention_mask':self.tokenizer(raw_data[i]['article'], padding=\"max_length\", truncation=True, max_length=encoder_max_length, return_tensors=\"pt\").attention_mask[0],\n",
        "          'decoder_attention_mask':self.tokenizer(raw_data[i]['highlights'], padding=\"max_length\", truncation=True, max_length=decoder_max_length, return_tensors=\"pt\").attention_mask[0]\n",
        "      } )\n",
        "    return data\n",
        "  \n",
        "  def __len__(self):\n",
        "    return len(self.data)\n",
        "  \n",
        "  def __getitem__(self, idx):\n",
        "    return self.data[idx]\n"
      ],
      "execution_count": null,
      "outputs": []
    },
    {
      "cell_type": "code",
      "metadata": {
        "id": "c9QI58ZRp_4D"
      },
      "source": [
        "class ModelSummarizer(nn.Module):\n",
        "  def __init__(self):\n",
        "    super().__init__()\n",
        "    self.bert = BertModel.from_pretrained(model_name).cuda()\n",
        "\n",
        "  def forward(self, batch_data):\n",
        "    x = self.bert(**batch_data)\n",
        "    return x[0][:, :, :2]"
      ],
      "execution_count": null,
      "outputs": []
    },
    {
      "cell_type": "code",
      "metadata": {
        "colab": {
          "base_uri": "https://localhost:8080/"
        },
        "id": "BpGrKBBzMbnt",
        "outputId": "0f64a81c-0fd5-40a4-b458-6828fcfaef42"
      },
      "source": [
        "\"\"\"\n",
        "Instantiate model, dataloader & optimizer\n",
        "\"\"\"\n",
        "\n",
        "# model trained on xetreme summarization task\n",
        "model = ModelSummarizer().cuda()\n",
        "\n",
        "# data\n",
        "if 'train_data' not in dir():\n",
        "  train_data = CNNDataset(mode='train', n_articles=10000)\n",
        "train_loader = torch.utils.data.DataLoader(train_data, batch_size=batch_size, pin_memory=True)\n",
        "\n",
        "# optimizer\n",
        "params = [\n",
        "    {\n",
        "        \"params\": [p for n, p in model.named_parameters() if not any(nd in n for nd in [\"bias\", \"LayerNorm.weight\"])],\n",
        "        \"weight_decay\": 1e-8,\n",
        "    },\n",
        "    {\n",
        "        \"params\": [p for n, p in model.named_parameters() if any(nd in n for nd in [\"bias\", \"LayerNorm.weight\"])],\n",
        "        \"weight_decay\": 0.0,\n",
        "    },\n",
        "]\n",
        "optim = torch.optim.AdamW(params, lr=3e-4)"
      ],
      "execution_count": null,
      "outputs": [
        {
          "output_type": "stream",
          "text": [
            "Some weights of the model checkpoint at bert-base-uncased were not used when initializing BertModel: ['cls.predictions.decoder.weight', 'cls.seq_relationship.weight', 'cls.seq_relationship.bias', 'cls.predictions.transform.LayerNorm.weight', 'cls.predictions.transform.dense.bias', 'cls.predictions.transform.dense.weight', 'cls.predictions.bias', 'cls.predictions.transform.LayerNorm.bias']\n",
            "- This IS expected if you are initializing BertModel from the checkpoint of a model trained on another task or with another architecture (e.g. initializing a BertForSequenceClassification model from a BertForPreTraining model).\n",
            "- This IS NOT expected if you are initializing BertModel from the checkpoint of a model that you expect to be exactly identical (initializing a BertForSequenceClassification model from a BertForSequenceClassification model).\n",
            "Reusing dataset cnn_dailymail (/root/.cache/huggingface/datasets/cnn_dailymail/3.0.0/3.0.0/3cb851bf7cf5826e45d49db2863f627cba583cbc32342df7349dfe6c38060234)\n"
          ],
          "name": "stderr"
        }
      ]
    },
    {
      "cell_type": "markdown",
      "metadata": {
        "id": "6hRsAg9l7660"
      },
      "source": [
        "## Finetuning not working\n",
        "\n",
        "--> I think that the model was pretrained with a particular loss, for this reason finetuning do not work properly (or we just lack computing power)"
      ]
    },
    {
      "cell_type": "code",
      "metadata": {
        "id": "kEa9-U7a9Eob",
        "colab": {
          "base_uri": "https://localhost:8080/"
        },
        "outputId": "382cca83-fd18-4dec-e4a1-59194867a2c4"
      },
      "source": [
        "\n",
        "model.train()\n",
        "for epoch in range(3):\n",
        "  tot_loss = []\n",
        "  for data in tqdm(train_loader, postfix=True):\n",
        "\n",
        "    # move to GPU\n",
        "    for k in data:\n",
        "      data[k] = data[k].cuda()\n",
        "\n",
        "    # forward\n",
        "    input = {k:v for k,v in data.items() if k in {'input_ids','attention_mask'}}\n",
        "    logits = model(input)\n",
        "\n",
        "    important_sentences = torch.stack((data['labels'], data['labels2']), dim=2)\n",
        "    loss = nn.MSELoss()(logits, important_sentences)\n",
        "\n",
        "    # backward\n",
        "    loss.backward()\n",
        "    optim.step()\n",
        "    optim.zero_grad()\n",
        "    tot_loss.append(loss.item())\n",
        "\n",
        "    # print stats\n",
        "    if len(tot_loss)%100==0: \n",
        "      print(f'loss e:{epoch} = {1000*sum(tot_loss)/len(tot_loss):.5f}')\n",
        "  print(f'FINAL loss e:{epoch} = {1000*sum(tot_loss)/len(tot_loss):.5f}')\n",
        "  tot_loss=[]"
      ],
      "execution_count": null,
      "outputs": [
        {
          "output_type": "stream",
          "text": [
            "  4%|▍         | 100/2500 [01:07<26:51,  1.49it/sTrue]"
          ],
          "name": "stderr"
        },
        {
          "output_type": "stream",
          "text": [
            "loss e:0 = 108.38672\n"
          ],
          "name": "stdout"
        },
        {
          "output_type": "stream",
          "text": [
            "  8%|▊         | 200/2500 [02:15<25:49,  1.48it/sTrue]"
          ],
          "name": "stderr"
        },
        {
          "output_type": "stream",
          "text": [
            "loss e:0 = 91.03345\n"
          ],
          "name": "stdout"
        },
        {
          "output_type": "stream",
          "text": [
            " 12%|█▏        | 300/2500 [03:22<24:33,  1.49it/sTrue]"
          ],
          "name": "stderr"
        },
        {
          "output_type": "stream",
          "text": [
            "loss e:0 = 79.37600\n"
          ],
          "name": "stdout"
        },
        {
          "output_type": "stream",
          "text": [
            " 16%|█▌        | 400/2500 [04:29<23:25,  1.49it/sTrue]"
          ],
          "name": "stderr"
        },
        {
          "output_type": "stream",
          "text": [
            "loss e:0 = 79.16633\n"
          ],
          "name": "stdout"
        },
        {
          "output_type": "stream",
          "text": [
            " 20%|██        | 500/2500 [05:36<22:20,  1.49it/sTrue]"
          ],
          "name": "stderr"
        },
        {
          "output_type": "stream",
          "text": [
            "loss e:0 = 74.73874\n"
          ],
          "name": "stdout"
        },
        {
          "output_type": "stream",
          "text": [
            " 24%|██▍       | 600/2500 [06:43<21:17,  1.49it/sTrue]"
          ],
          "name": "stderr"
        },
        {
          "output_type": "stream",
          "text": [
            "loss e:0 = 70.69356\n"
          ],
          "name": "stdout"
        },
        {
          "output_type": "stream",
          "text": [
            " 28%|██▊       | 700/2500 [07:50<20:07,  1.49it/sTrue]"
          ],
          "name": "stderr"
        },
        {
          "output_type": "stream",
          "text": [
            "loss e:0 = 67.50783\n"
          ],
          "name": "stdout"
        },
        {
          "output_type": "stream",
          "text": [
            " 32%|███▏      | 800/2500 [08:57<19:05,  1.48it/sTrue]"
          ],
          "name": "stderr"
        },
        {
          "output_type": "stream",
          "text": [
            "loss e:0 = 65.85662\n"
          ],
          "name": "stdout"
        },
        {
          "output_type": "stream",
          "text": [
            " 36%|███▌      | 900/2500 [10:04<17:49,  1.50it/sTrue]"
          ],
          "name": "stderr"
        },
        {
          "output_type": "stream",
          "text": [
            "loss e:0 = 64.15568\n"
          ],
          "name": "stdout"
        },
        {
          "output_type": "stream",
          "text": [
            " 40%|████      | 1000/2500 [11:11<16:47,  1.49it/sTrue]"
          ],
          "name": "stderr"
        },
        {
          "output_type": "stream",
          "text": [
            "loss e:0 = 63.24111\n"
          ],
          "name": "stdout"
        },
        {
          "output_type": "stream",
          "text": [
            " 44%|████▍     | 1100/2500 [12:18<15:38,  1.49it/sTrue]"
          ],
          "name": "stderr"
        },
        {
          "output_type": "stream",
          "text": [
            "loss e:0 = 62.53050\n"
          ],
          "name": "stdout"
        },
        {
          "output_type": "stream",
          "text": [
            " 48%|████▊     | 1200/2500 [13:26<14:35,  1.48it/sTrue]"
          ],
          "name": "stderr"
        },
        {
          "output_type": "stream",
          "text": [
            "loss e:0 = 61.82925\n"
          ],
          "name": "stdout"
        },
        {
          "output_type": "stream",
          "text": [
            " 52%|█████▏    | 1300/2500 [14:33<13:27,  1.49it/sTrue]"
          ],
          "name": "stderr"
        },
        {
          "output_type": "stream",
          "text": [
            "loss e:0 = 61.10020\n"
          ],
          "name": "stdout"
        },
        {
          "output_type": "stream",
          "text": [
            " 56%|█████▌    | 1400/2500 [15:40<12:18,  1.49it/sTrue]"
          ],
          "name": "stderr"
        },
        {
          "output_type": "stream",
          "text": [
            "loss e:0 = 60.56487\n"
          ],
          "name": "stdout"
        },
        {
          "output_type": "stream",
          "text": [
            " 60%|██████    | 1500/2500 [16:47<11:08,  1.50it/sTrue]"
          ],
          "name": "stderr"
        },
        {
          "output_type": "stream",
          "text": [
            "loss e:0 = 60.20140\n"
          ],
          "name": "stdout"
        },
        {
          "output_type": "stream",
          "text": [
            " 64%|██████▍   | 1600/2500 [17:54<10:02,  1.49it/sTrue]"
          ],
          "name": "stderr"
        },
        {
          "output_type": "stream",
          "text": [
            "loss e:0 = 59.78812\n"
          ],
          "name": "stdout"
        },
        {
          "output_type": "stream",
          "text": [
            " 68%|██████▊   | 1700/2500 [19:01<08:56,  1.49it/sTrue]"
          ],
          "name": "stderr"
        },
        {
          "output_type": "stream",
          "text": [
            "loss e:0 = 59.12681\n"
          ],
          "name": "stdout"
        },
        {
          "output_type": "stream",
          "text": [
            " 72%|███████▏  | 1800/2500 [20:08<07:49,  1.49it/sTrue]"
          ],
          "name": "stderr"
        },
        {
          "output_type": "stream",
          "text": [
            "loss e:0 = 58.93726\n"
          ],
          "name": "stdout"
        },
        {
          "output_type": "stream",
          "text": [
            " 76%|███████▌  | 1900/2500 [21:15<06:42,  1.49it/sTrue]"
          ],
          "name": "stderr"
        },
        {
          "output_type": "stream",
          "text": [
            "loss e:0 = 58.56278\n"
          ],
          "name": "stdout"
        },
        {
          "output_type": "stream",
          "text": [
            " 80%|████████  | 2000/2500 [22:22<05:36,  1.49it/sTrue]"
          ],
          "name": "stderr"
        },
        {
          "output_type": "stream",
          "text": [
            "loss e:0 = 58.29725\n"
          ],
          "name": "stdout"
        },
        {
          "output_type": "stream",
          "text": [
            " 84%|████████▍ | 2100/2500 [23:29<04:28,  1.49it/sTrue]"
          ],
          "name": "stderr"
        },
        {
          "output_type": "stream",
          "text": [
            "loss e:0 = 58.27571\n"
          ],
          "name": "stdout"
        },
        {
          "output_type": "stream",
          "text": [
            " 88%|████████▊ | 2200/2500 [24:36<03:21,  1.49it/sTrue]"
          ],
          "name": "stderr"
        },
        {
          "output_type": "stream",
          "text": [
            "loss e:0 = 58.08323\n"
          ],
          "name": "stdout"
        },
        {
          "output_type": "stream",
          "text": [
            " 92%|█████████▏| 2300/2500 [25:43<02:14,  1.49it/sTrue]"
          ],
          "name": "stderr"
        },
        {
          "output_type": "stream",
          "text": [
            "loss e:0 = 57.74633\n"
          ],
          "name": "stdout"
        },
        {
          "output_type": "stream",
          "text": [
            " 96%|█████████▌| 2400/2500 [26:50<01:07,  1.49it/sTrue]"
          ],
          "name": "stderr"
        },
        {
          "output_type": "stream",
          "text": [
            "loss e:0 = 57.66664\n"
          ],
          "name": "stdout"
        },
        {
          "output_type": "stream",
          "text": [
            "100%|██████████| 2500/2500 [27:57<00:00,  1.49it/sTrue]\n"
          ],
          "name": "stderr"
        },
        {
          "output_type": "stream",
          "text": [
            "loss e:0 = 57.32804\n",
            "FINAL loss e:0 = 57.32804\n"
          ],
          "name": "stdout"
        },
        {
          "output_type": "stream",
          "text": [
            "  4%|▍         | 100/2500 [01:07<26:46,  1.49it/sTrue]"
          ],
          "name": "stderr"
        },
        {
          "output_type": "stream",
          "text": [
            "loss e:1 = 54.36537\n"
          ],
          "name": "stdout"
        },
        {
          "output_type": "stream",
          "text": [
            "  8%|▊         | 200/2500 [02:14<25:42,  1.49it/sTrue]"
          ],
          "name": "stderr"
        },
        {
          "output_type": "stream",
          "text": [
            "loss e:1 = 54.77852\n"
          ],
          "name": "stdout"
        },
        {
          "output_type": "stream",
          "text": [
            " 12%|█▏        | 300/2500 [03:21<24:34,  1.49it/sTrue]"
          ],
          "name": "stderr"
        },
        {
          "output_type": "stream",
          "text": [
            "loss e:1 = 55.12221\n"
          ],
          "name": "stdout"
        },
        {
          "output_type": "stream",
          "text": [
            " 16%|█▌        | 400/2500 [04:28<23:29,  1.49it/sTrue]"
          ],
          "name": "stderr"
        },
        {
          "output_type": "stream",
          "text": [
            "loss e:1 = 54.08503\n"
          ],
          "name": "stdout"
        },
        {
          "output_type": "stream",
          "text": [
            " 20%|██        | 500/2500 [05:36<22:22,  1.49it/sTrue]"
          ],
          "name": "stderr"
        },
        {
          "output_type": "stream",
          "text": [
            "loss e:1 = 54.47310\n"
          ],
          "name": "stdout"
        },
        {
          "output_type": "stream",
          "text": [
            " 24%|██▍       | 600/2500 [06:43<21:22,  1.48it/sTrue]"
          ],
          "name": "stderr"
        },
        {
          "output_type": "stream",
          "text": [
            "loss e:1 = 53.72087\n"
          ],
          "name": "stdout"
        },
        {
          "output_type": "stream",
          "text": [
            " 28%|██▊       | 700/2500 [07:50<20:07,  1.49it/sTrue]"
          ],
          "name": "stderr"
        },
        {
          "output_type": "stream",
          "text": [
            "loss e:1 = 52.91765\n"
          ],
          "name": "stdout"
        },
        {
          "output_type": "stream",
          "text": [
            " 32%|███▏      | 800/2500 [08:57<19:05,  1.48it/sTrue]"
          ],
          "name": "stderr"
        },
        {
          "output_type": "stream",
          "text": [
            "loss e:1 = 53.01071\n"
          ],
          "name": "stdout"
        },
        {
          "output_type": "stream",
          "text": [
            " 36%|███▌      | 900/2500 [10:04<17:53,  1.49it/sTrue]"
          ],
          "name": "stderr"
        },
        {
          "output_type": "stream",
          "text": [
            "loss e:1 = 52.69689\n"
          ],
          "name": "stdout"
        },
        {
          "output_type": "stream",
          "text": [
            " 40%|████      | 1000/2500 [11:11<16:51,  1.48it/sTrue]"
          ],
          "name": "stderr"
        },
        {
          "output_type": "stream",
          "text": [
            "loss e:1 = 52.88388\n"
          ],
          "name": "stdout"
        },
        {
          "output_type": "stream",
          "text": [
            " 44%|████▍     | 1100/2500 [12:19<15:42,  1.49it/sTrue]"
          ],
          "name": "stderr"
        },
        {
          "output_type": "stream",
          "text": [
            "loss e:1 = 53.05958\n"
          ],
          "name": "stdout"
        },
        {
          "output_type": "stream",
          "text": [
            " 48%|████▊     | 1200/2500 [13:26<14:35,  1.49it/sTrue]"
          ],
          "name": "stderr"
        },
        {
          "output_type": "stream",
          "text": [
            "loss e:1 = 53.12324\n"
          ],
          "name": "stdout"
        },
        {
          "output_type": "stream",
          "text": [
            " 52%|█████▏    | 1300/2500 [14:33<13:22,  1.49it/sTrue]"
          ],
          "name": "stderr"
        },
        {
          "output_type": "stream",
          "text": [
            "loss e:1 = 53.03467\n"
          ],
          "name": "stdout"
        },
        {
          "output_type": "stream",
          "text": [
            " 56%|█████▌    | 1400/2500 [15:40<12:18,  1.49it/sTrue]"
          ],
          "name": "stderr"
        },
        {
          "output_type": "stream",
          "text": [
            "loss e:1 = 53.07370\n"
          ],
          "name": "stdout"
        },
        {
          "output_type": "stream",
          "text": [
            " 60%|██████    | 1500/2500 [16:47<11:13,  1.48it/sTrue]"
          ],
          "name": "stderr"
        },
        {
          "output_type": "stream",
          "text": [
            "loss e:1 = 53.20308\n"
          ],
          "name": "stdout"
        },
        {
          "output_type": "stream",
          "text": [
            " 64%|██████▍   | 1600/2500 [17:54<10:05,  1.49it/sTrue]"
          ],
          "name": "stderr"
        },
        {
          "output_type": "stream",
          "text": [
            "loss e:1 = 53.21259\n"
          ],
          "name": "stdout"
        },
        {
          "output_type": "stream",
          "text": [
            " 68%|██████▊   | 1700/2500 [19:01<08:58,  1.49it/sTrue]"
          ],
          "name": "stderr"
        },
        {
          "output_type": "stream",
          "text": [
            "loss e:1 = 52.92717\n"
          ],
          "name": "stdout"
        },
        {
          "output_type": "stream",
          "text": [
            " 72%|███████▏  | 1800/2500 [20:09<07:52,  1.48it/sTrue]"
          ],
          "name": "stderr"
        },
        {
          "output_type": "stream",
          "text": [
            "loss e:1 = 53.06513\n"
          ],
          "name": "stdout"
        },
        {
          "output_type": "stream",
          "text": [
            " 76%|███████▌  | 1900/2500 [21:16<06:43,  1.49it/sTrue]"
          ],
          "name": "stderr"
        },
        {
          "output_type": "stream",
          "text": [
            "loss e:1 = 52.98858\n"
          ],
          "name": "stdout"
        },
        {
          "output_type": "stream",
          "text": [
            " 80%|████████  | 2000/2500 [22:23<05:35,  1.49it/sTrue]"
          ],
          "name": "stderr"
        },
        {
          "output_type": "stream",
          "text": [
            "loss e:1 = 52.99394\n"
          ],
          "name": "stdout"
        },
        {
          "output_type": "stream",
          "text": [
            " 84%|████████▍ | 2100/2500 [23:30<04:30,  1.48it/sTrue]"
          ],
          "name": "stderr"
        },
        {
          "output_type": "stream",
          "text": [
            "loss e:1 = 53.21387\n"
          ],
          "name": "stdout"
        },
        {
          "output_type": "stream",
          "text": [
            " 88%|████████▊ | 2200/2500 [24:38<03:21,  1.49it/sTrue]"
          ],
          "name": "stderr"
        },
        {
          "output_type": "stream",
          "text": [
            "loss e:1 = 53.23862\n"
          ],
          "name": "stdout"
        },
        {
          "output_type": "stream",
          "text": [
            " 92%|█████████▏| 2300/2500 [25:45<02:14,  1.49it/sTrue]"
          ],
          "name": "stderr"
        },
        {
          "output_type": "stream",
          "text": [
            "loss e:1 = 53.10579\n"
          ],
          "name": "stdout"
        },
        {
          "output_type": "stream",
          "text": [
            " 96%|█████████▌| 2400/2500 [26:52<01:07,  1.49it/sTrue]"
          ],
          "name": "stderr"
        },
        {
          "output_type": "stream",
          "text": [
            "loss e:1 = 53.21461\n"
          ],
          "name": "stdout"
        },
        {
          "output_type": "stream",
          "text": [
            "100%|██████████| 2500/2500 [27:59<00:00,  1.49it/sTrue]\n"
          ],
          "name": "stderr"
        },
        {
          "output_type": "stream",
          "text": [
            "loss e:1 = 53.04889\n",
            "FINAL loss e:1 = 53.04889\n"
          ],
          "name": "stdout"
        },
        {
          "output_type": "stream",
          "text": [
            "  4%|▍         | 100/2500 [01:07<26:46,  1.49it/sTrue]"
          ],
          "name": "stderr"
        },
        {
          "output_type": "stream",
          "text": [
            "loss e:2 = 54.10666\n"
          ],
          "name": "stdout"
        },
        {
          "output_type": "stream",
          "text": [
            "  8%|▊         | 200/2500 [02:14<25:41,  1.49it/sTrue]"
          ],
          "name": "stderr"
        },
        {
          "output_type": "stream",
          "text": [
            "loss e:2 = 54.55161\n"
          ],
          "name": "stdout"
        },
        {
          "output_type": "stream",
          "text": [
            " 12%|█▏        | 300/2500 [03:21<24:36,  1.49it/sTrue]"
          ],
          "name": "stderr"
        },
        {
          "output_type": "stream",
          "text": [
            "loss e:2 = 54.91836\n"
          ],
          "name": "stdout"
        },
        {
          "output_type": "stream",
          "text": [
            " 16%|█▌        | 400/2500 [04:28<23:30,  1.49it/sTrue]"
          ],
          "name": "stderr"
        },
        {
          "output_type": "stream",
          "text": [
            "loss e:2 = 53.91171\n"
          ],
          "name": "stdout"
        },
        {
          "output_type": "stream",
          "text": [
            " 20%|██        | 500/2500 [05:35<22:23,  1.49it/sTrue]"
          ],
          "name": "stderr"
        },
        {
          "output_type": "stream",
          "text": [
            "loss e:2 = 55.44209\n"
          ],
          "name": "stdout"
        },
        {
          "output_type": "stream",
          "text": [
            " 24%|██▍       | 600/2500 [06:42<21:23,  1.48it/sTrue]"
          ],
          "name": "stderr"
        },
        {
          "output_type": "stream",
          "text": [
            "loss e:2 = 54.51003\n"
          ],
          "name": "stdout"
        },
        {
          "output_type": "stream",
          "text": [
            " 28%|██▊       | 700/2500 [07:49<20:16,  1.48it/sTrue]"
          ],
          "name": "stderr"
        },
        {
          "output_type": "stream",
          "text": [
            "loss e:2 = 53.56457\n"
          ],
          "name": "stdout"
        },
        {
          "output_type": "stream",
          "text": [
            " 32%|███▏      | 800/2500 [08:57<19:05,  1.48it/sTrue]"
          ],
          "name": "stderr"
        },
        {
          "output_type": "stream",
          "text": [
            "loss e:2 = 53.54537\n"
          ],
          "name": "stdout"
        },
        {
          "output_type": "stream",
          "text": [
            " 36%|███▌      | 900/2500 [10:04<17:51,  1.49it/sTrue]"
          ],
          "name": "stderr"
        },
        {
          "output_type": "stream",
          "text": [
            "loss e:2 = 53.16516\n"
          ],
          "name": "stdout"
        },
        {
          "output_type": "stream",
          "text": [
            " 40%|████      | 1000/2500 [11:11<16:48,  1.49it/sTrue]"
          ],
          "name": "stderr"
        },
        {
          "output_type": "stream",
          "text": [
            "loss e:2 = 53.27829\n"
          ],
          "name": "stdout"
        },
        {
          "output_type": "stream",
          "text": [
            " 44%|████▍     | 1100/2500 [12:18<15:42,  1.49it/sTrue]"
          ],
          "name": "stderr"
        },
        {
          "output_type": "stream",
          "text": [
            "loss e:2 = 53.39341\n"
          ],
          "name": "stdout"
        },
        {
          "output_type": "stream",
          "text": [
            " 48%|████▊     | 1200/2500 [13:25<14:30,  1.49it/sTrue]"
          ],
          "name": "stderr"
        },
        {
          "output_type": "stream",
          "text": [
            "loss e:2 = 53.41968\n"
          ],
          "name": "stdout"
        },
        {
          "output_type": "stream",
          "text": [
            " 52%|█████▏    | 1300/2500 [14:33<13:22,  1.49it/sTrue]"
          ],
          "name": "stderr"
        },
        {
          "output_type": "stream",
          "text": [
            "loss e:2 = 53.30017\n"
          ],
          "name": "stdout"
        },
        {
          "output_type": "stream",
          "text": [
            " 56%|█████▌    | 1400/2500 [15:40<12:18,  1.49it/sTrue]"
          ],
          "name": "stderr"
        },
        {
          "output_type": "stream",
          "text": [
            "loss e:2 = 53.32029\n"
          ],
          "name": "stdout"
        },
        {
          "output_type": "stream",
          "text": [
            " 60%|██████    | 1500/2500 [16:47<11:13,  1.48it/sTrue]"
          ],
          "name": "stderr"
        },
        {
          "output_type": "stream",
          "text": [
            "loss e:2 = 53.42912\n"
          ],
          "name": "stdout"
        },
        {
          "output_type": "stream",
          "text": [
            " 64%|██████▍   | 1600/2500 [17:54<10:05,  1.49it/sTrue]"
          ],
          "name": "stderr"
        },
        {
          "output_type": "stream",
          "text": [
            "loss e:2 = 53.42063\n"
          ],
          "name": "stdout"
        },
        {
          "output_type": "stream",
          "text": [
            " 68%|██████▊   | 1700/2500 [19:01<08:56,  1.49it/sTrue]"
          ],
          "name": "stderr"
        },
        {
          "output_type": "stream",
          "text": [
            "loss e:2 = 53.12414\n"
          ],
          "name": "stdout"
        },
        {
          "output_type": "stream",
          "text": [
            " 72%|███████▏  | 1800/2500 [20:08<07:49,  1.49it/sTrue]"
          ],
          "name": "stderr"
        },
        {
          "output_type": "stream",
          "text": [
            "loss e:2 = 53.24325\n"
          ],
          "name": "stdout"
        },
        {
          "output_type": "stream",
          "text": [
            " 76%|███████▌  | 1900/2500 [21:15<06:43,  1.49it/sTrue]"
          ],
          "name": "stderr"
        },
        {
          "output_type": "stream",
          "text": [
            "loss e:2 = 53.15115\n"
          ],
          "name": "stdout"
        },
        {
          "output_type": "stream",
          "text": [
            " 80%|████████  | 2000/2500 [22:22<05:34,  1.49it/sTrue]"
          ],
          "name": "stderr"
        },
        {
          "output_type": "stream",
          "text": [
            "loss e:2 = 53.14184\n"
          ],
          "name": "stdout"
        },
        {
          "output_type": "stream",
          "text": [
            " 84%|████████▍ | 2100/2500 [23:29<04:27,  1.50it/sTrue]"
          ],
          "name": "stderr"
        },
        {
          "output_type": "stream",
          "text": [
            "loss e:2 = 53.35096\n"
          ],
          "name": "stdout"
        },
        {
          "output_type": "stream",
          "text": [
            " 88%|████████▊ | 2200/2500 [24:36<03:21,  1.49it/sTrue]"
          ],
          "name": "stderr"
        },
        {
          "output_type": "stream",
          "text": [
            "loss e:2 = 53.36307\n"
          ],
          "name": "stdout"
        },
        {
          "output_type": "stream",
          "text": [
            " 92%|█████████▏| 2300/2500 [25:43<02:14,  1.49it/sTrue]"
          ],
          "name": "stderr"
        },
        {
          "output_type": "stream",
          "text": [
            "loss e:2 = 53.22148\n"
          ],
          "name": "stdout"
        },
        {
          "output_type": "stream",
          "text": [
            " 96%|█████████▌| 2400/2500 [26:50<01:07,  1.49it/sTrue]"
          ],
          "name": "stderr"
        },
        {
          "output_type": "stream",
          "text": [
            "loss e:2 = 53.32303\n"
          ],
          "name": "stdout"
        },
        {
          "output_type": "stream",
          "text": [
            "100%|██████████| 2500/2500 [27:57<00:00,  1.49it/sTrue]"
          ],
          "name": "stderr"
        },
        {
          "output_type": "stream",
          "text": [
            "loss e:2 = 53.15068\n",
            "FINAL loss e:2 = 53.15068\n"
          ],
          "name": "stdout"
        },
        {
          "output_type": "stream",
          "text": [
            "\n"
          ],
          "name": "stderr"
        }
      ]
    },
    {
      "cell_type": "code",
      "metadata": {
        "id": "EWnqpBCV-TqR",
        "colab": {
          "base_uri": "https://localhost:8080/",
          "height": 66,
          "referenced_widgets": [
            "12427c6aa3c040f983a9693f41ba2897",
            "d4b4178004c14db3924bed08d870d60a",
            "9399c5bf716f4922a50f81a21c77ad81",
            "37a690dee4ce488d89026202ac9db63a",
            "3e98015016b945c0a3f071c462e2b660",
            "561862aab8ff4815ace6ce0d2f03f480",
            "be6654338d694a4c8481c509673166fe",
            "ae0438a4e72c4209ac5072bc9685e4bf",
            "1f77e5ef81c54002a73dec9c0bcbb0b0",
            "c5c2f680578343e6a3a001ebe8ad970b",
            "05666ddb8f9841d9a53d4471153096af"
          ]
        },
        "outputId": "ad08cb12-d617-439b-aa49-87436f8dbd1e"
      },
      "source": [
        "if 'test_data' not in dir():\n",
        "  test_data = CNNDataset(mode='test', n_articles=1000)\n",
        "test_loader = torch.utils.data.DataLoader(test_data, batch_size=1, shuffle=False, pin_memory=True)\n",
        "\n",
        "predicted, real = [], []\n",
        "\n",
        "model.eval()\n",
        "with torch.no_grad():\n",
        "  for batch in test_loader:\n",
        "\n",
        "    # forward\n",
        "    input = {k:v.cuda() for k,v in data.items() if k in {'input_ids','attention_mask'}}\n",
        "    logits = model(input)\n",
        "    logits = logits.sum(dim=2)[0]\n",
        "\n",
        "    # score sentences\n",
        "    punctuations = test_data.tokenizer.encode(\". ; ? !\")\n",
        "    score, sum = [], 0\n",
        "    for val, tok in zip(logits, data['input_ids'][0]):\n",
        "      sum += val.item()\n",
        "      if tok in punctuations:\n",
        "        score.append(sum)\n",
        "        sum = 0\n",
        "    \n",
        "\n",
        "    # convert hot-encode into text\n",
        "    predicted_summary = test_data.tokenizer.decode(batch['input_ids'][0], skip_special_tokens=True)\n",
        "    blocks = [0]\n",
        "    for i, char in enumerate(predicted_summary):\n",
        "      if char in {\".\",\";\",\"?\",\"!\"}:\n",
        "        blocks.append(i)\n",
        "    blocks.append(len(predicted_summary))\n",
        "\n",
        "    # get top 3\n",
        "    score = score[:len(blocks)-1]\n",
        "    if len(score)<3:\n",
        "      idx = list(range(len(score)))\n",
        "    else:\n",
        "      _, idx = torch.tensor(score).topk(3)\n",
        "\n",
        "    final = ''\n",
        "    for i in idx:\n",
        "      i = int(i)\n",
        "      final += predicted_summary[blocks[i]+2:blocks[i+1]]\n",
        "    \n",
        "    # save decoded summaries\n",
        "    real_summary = test_data.tokenizer.decode(batch['decoder_input_ids'][0], skip_special_tokens=True)\n",
        "    predicted.append(final)\n",
        "    real.append(real_summary)\n",
        "\n",
        "  rouge = load_metric('rouge')"
      ],
      "execution_count": null,
      "outputs": [
        {
          "output_type": "stream",
          "text": [
            "Reusing dataset cnn_dailymail (/root/.cache/huggingface/datasets/cnn_dailymail/3.0.0/3.0.0/3cb851bf7cf5826e45d49db2863f627cba583cbc32342df7349dfe6c38060234)\n"
          ],
          "name": "stderr"
        },
        {
          "output_type": "display_data",
          "data": {
            "application/vnd.jupyter.widget-view+json": {
              "model_id": "12427c6aa3c040f983a9693f41ba2897",
              "version_minor": 0,
              "version_major": 2
            },
            "text/plain": [
              "Downloading:   0%|          | 0.00/2.17k [00:00<?, ?B/s]"
            ]
          },
          "metadata": {}
        }
      ]
    },
    {
      "cell_type": "code",
      "metadata": {
        "id": "rmDfIF-L_69t",
        "colab": {
          "base_uri": "https://localhost:8080/"
        },
        "outputId": "c973dc28-0c89-412c-de62-bca950929590"
      },
      "source": [
        "score = rouge.compute(predictions=predicted, references=real)\n",
        "\n",
        "for k in score:\n",
        "  print(k, score[k].mid)\n",
        "\n",
        "print('\\n', predicted[2], '\\n\\n', real[2])"
      ],
      "execution_count": null,
      "outputs": [
        {
          "output_type": "stream",
          "text": [
            "rouge1 Score(precision=0.1936956623231523, recall=0.2970620887408911, fmeasure=0.2226695122536908)\n",
            "rouge2 Score(precision=0.05014442975045013, recall=0.0796845203961831, fmeasure=0.05839132807868044)\n",
            "rougeL Score(precision=0.13192943844870555, recall=0.20167446552470977, fmeasure=0.1510992744850564)\n",
            "rougeLsum Score(precision=0.13196855563764165, recall=0.2014674954178118, fmeasure=0.15113328949771845)\n",
            "\n",
            " i asked him about the science behind climate change and public health and the message he wants the average american to take away, as well as how enforceable his action plan iswhile in lhe credits the clean air act with making americans \" a lot \" healthier, in addition to being able to \" see the mountains in the background because they aren't covered in smog \n",
            "\n",
            " \" no challenge poses more of a public threat than climate change, \" the president says. he credits the clean air act with making americans \" a lot \" healthier.\n"
          ],
          "name": "stdout"
        }
      ]
    }
  ]
}